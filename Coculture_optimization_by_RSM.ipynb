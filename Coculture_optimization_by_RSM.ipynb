{
 "cells": [
  {
   "cell_type": "markdown",
   "source": [
    "## Import libraries"
   ],
   "metadata": {}
  },
  {
   "cell_type": "code",
   "execution_count": 34,
   "source": [
    "import pandas as pd\r\n",
    "from matplotlib import pyplot as plt\r\n",
    "import numpy as np"
   ],
   "outputs": [],
   "metadata": {}
  },
  {
   "cell_type": "markdown",
   "source": [
    "## Import and clean data"
   ],
   "metadata": {}
  },
  {
   "cell_type": "code",
   "execution_count": 35,
   "source": [
    "df_CCD = pd.read_csv(\"https://raw.githubusercontent.com/ferbracalente/E.-coli-coculture/master/docs/CCD.csv\", index_col=(\"Std\"))\r\n",
    "\r\n",
    "cols = list(df_CCD.columns[2:7])\r\n",
    "names = (\"RQ5\", \"Time\", \"IPTG\", \"MBE\", \"OD\")\r\n",
    "\r\n",
    "df_CCD = df_CCD[cols]\r\n",
    "df_CCD.columns = names\r\n",
    "\r\n",
    "df_CCD.head()"
   ],
   "outputs": [
    {
     "output_type": "execute_result",
     "data": {
      "text/html": [
       "<div>\n",
       "<style scoped>\n",
       "    .dataframe tbody tr th:only-of-type {\n",
       "        vertical-align: middle;\n",
       "    }\n",
       "\n",
       "    .dataframe tbody tr th {\n",
       "        vertical-align: top;\n",
       "    }\n",
       "\n",
       "    .dataframe thead th {\n",
       "        text-align: right;\n",
       "    }\n",
       "</style>\n",
       "<table border=\"1\" class=\"dataframe\">\n",
       "  <thead>\n",
       "    <tr style=\"text-align: right;\">\n",
       "      <th></th>\n",
       "      <th>RQ5</th>\n",
       "      <th>Time</th>\n",
       "      <th>IPTG</th>\n",
       "      <th>ug_MBE</th>\n",
       "      <th>OD</th>\n",
       "    </tr>\n",
       "    <tr>\n",
       "      <th>Std</th>\n",
       "      <th></th>\n",
       "      <th></th>\n",
       "      <th></th>\n",
       "      <th></th>\n",
       "      <th></th>\n",
       "    </tr>\n",
       "  </thead>\n",
       "  <tbody>\n",
       "    <tr>\n",
       "      <th>1</th>\n",
       "      <td>25.672741</td>\n",
       "      <td>1.310793</td>\n",
       "      <td>0.120944</td>\n",
       "      <td>12.153163</td>\n",
       "      <td>9.210</td>\n",
       "    </tr>\n",
       "    <tr>\n",
       "      <th>2</th>\n",
       "      <td>25.672741</td>\n",
       "      <td>1.310793</td>\n",
       "      <td>0.120944</td>\n",
       "      <td>12.231740</td>\n",
       "      <td>8.785</td>\n",
       "    </tr>\n",
       "    <tr>\n",
       "      <th>3</th>\n",
       "      <td>74.317259</td>\n",
       "      <td>1.310793</td>\n",
       "      <td>0.120944</td>\n",
       "      <td>5.648743</td>\n",
       "      <td>8.770</td>\n",
       "    </tr>\n",
       "    <tr>\n",
       "      <th>4</th>\n",
       "      <td>74.317259</td>\n",
       "      <td>1.310793</td>\n",
       "      <td>0.120944</td>\n",
       "      <td>5.072542</td>\n",
       "      <td>8.975</td>\n",
       "    </tr>\n",
       "    <tr>\n",
       "      <th>5</th>\n",
       "      <td>25.672741</td>\n",
       "      <td>3.689207</td>\n",
       "      <td>0.120944</td>\n",
       "      <td>2.726779</td>\n",
       "      <td>8.975</td>\n",
       "    </tr>\n",
       "  </tbody>\n",
       "</table>\n",
       "</div>"
      ],
      "text/plain": [
       "           RQ5      Time      IPTG     ug_MBE     OD\n",
       "Std                                                 \n",
       "1    25.672741  1.310793  0.120944  12.153163  9.210\n",
       "2    25.672741  1.310793  0.120944  12.231740  8.785\n",
       "3    74.317259  1.310793  0.120944   5.648743  8.770\n",
       "4    74.317259  1.310793  0.120944   5.072542  8.975\n",
       "5    25.672741  3.689207  0.120944   2.726779  8.975"
      ]
     },
     "metadata": {},
     "execution_count": 35
    }
   ],
   "metadata": {}
  },
  {
   "cell_type": "markdown",
   "source": [
    "## Define the polynomial model for each response"
   ],
   "metadata": {}
  },
  {
   "cell_type": "code",
   "execution_count": 36,
   "source": [
    "def model_MBE(RQ5, Time, IPTG):\r\n",
    "    MBE_predicted = -16.59126 -0.13119 * RQ5 -0.70722 * Time +285.59296 * IPTG + 0.39402 * RQ5*Time + 2.70772  * RQ5*IPTG + 60.23277 * Time * IPTG - 3.79661E-003 * (RQ5**2) -3.12603 * (Time**2) -1374.69579 * (IPTG**2) -1.09541 * RQ5*Time*IPTG -2.28001E-003 * (RQ5**2) *Time +1286.95684*(IPTG**3)\r\n",
    "    return MBE_predicted\r\n",
    "\r\n",
    "def model_OD(RQ5, Time, IPTG):\r\n",
    "    OD_predicted = 13.49564 -0.090711 * RQ5 -6.35033 * Time -12.09413 * IPTG + 0.15325 * RQ5*Time +0.23355 * RQ5*IPTG +6.45031 * Time*IPTG - 7.88557E-004 * (RQ5**2) + 1.07671 * (Time**2) -21.94053 * (IPTG**2) - 0.10508 * RQ5*Time*IPTG -0.026465 * RQ5*(Time**2)\r\n",
    "    return OD_predicted\r\n",
    "\r\n",
    "def model_MBE_coded(RQ5, Time, IPTG):\r\n",
    "    return 23.91 -2.50 *RQ5 -1.32 * Time +1.19 *IPTG -2.33 *RQ5*Time -0.078 *RQ5*IPTG +0.68 *Time*IPTG -5.62 * (RQ5**2) -4.42 * (Time**2) -5.48 * (IPTG**2) -3.30 * RQ5*Time*IPTG -1.60 * (RQ5**2)*Time +1.45 * (IPTG**3)\r\n",
    "\r\n",
    "def model_OD_coded(RQ5, Time, IPTG):\r\n",
    "    return 8.20 + 1.01 *RQ5 + 0.41 * Time - 0.76 * IPTG - 0.079 *RQ5*Time -0.074 *RQ5*IPTG +0.15 *Time*IPTG -0.47 *(RQ5**2) -0.35 *(Time**2) -0.24 *(IPTG**2) -0.32 *RQ5*Time*IPTG - 0.91 * RQ5* (Time**2)"
   ],
   "outputs": [],
   "metadata": {}
  },
  {
   "cell_type": "markdown",
   "source": [
    "## Define range of idependent variables"
   ],
   "metadata": {}
  },
  {
   "cell_type": "code",
   "execution_count": 37,
   "source": [
    "RQ5 = np.linspace(0, 100, 1000)\r\n",
    "Time = np.linspace(0.5, 4.5, 1000)\r\n",
    "IPTG = np.linspace(0.05, 0.4, 1000)"
   ],
   "outputs": [],
   "metadata": {}
  },
  {
   "cell_type": "markdown",
   "source": [
    "## Define dictionaries with units, zero values and D_optimum for each factor"
   ],
   "metadata": {}
  },
  {
   "cell_type": "code",
   "execution_count": 38,
   "source": [
    "variables_dict = {'RQ5.1': RQ5, 'Time': Time, 'IPTG': IPTG}\r\n",
    "units_dict = {'RQ5.1':\"(%)\", \"Time\": \"(h)\", \"IPTG\": \"(mM)\"}\r\n",
    "zero_values_dict = {'RQ5.1':50, 'Time': 2.5, 'IPTG': 0.23}\r\n",
    "D_optimum_values = {'RQ5.1': 53.9, 'Time':2.51, 'IPTG':0.21}\r\n",
    "responses_dict = {\"MBE\": model_MBE, \"OD\": model_OD}"
   ],
   "outputs": [],
   "metadata": {}
  },
  {
   "cell_type": "markdown",
   "source": [
    "## Define function to create a 2d-array with predicted responses"
   ],
   "metadata": {}
  },
  {
   "cell_type": "code",
   "execution_count": 39,
   "source": [
    "def predicted_responses(a:str, b:str, c:tuple, response_function):\r\n",
    "    '''\r\n",
    "    Recieves the name of two factors as strings, a tuple with the third factor and its fixed value \r\n",
    "    and the response fuction model.\r\n",
    "    Return R, a 2d-array as result of aplying response_fuction(a, b, c=fix)\r\n",
    "    ''' \r\n",
    "    A, B = np.meshgrid(variables_dict[a],variables_dict[b]) #Creates 2d-arrays A and B\r\n",
    "    if (a == \"RQ5.1\" and b == \"Time\"):\r\n",
    "        R = response_function(RQ5 = A, Time = B, IPTG = c[1]) #Apply function to each (A,B) pair\r\n",
    "    elif (a == \"Time\" and b == \"RQ5.1\"):\r\n",
    "        R = response_function(Time = A, RQ5 = B, IPTG = c[1])\r\n",
    "    elif (a == \"RQ5.1\" and b == \"IPTG\"):\r\n",
    "        R = response_function(RQ5= A, IPTG = B, Time = c[1])\r\n",
    "    elif (a == \"IPTG\" and b == \"RQ5.1\"):\r\n",
    "        R = response_function(IPTG = A, RQ5 = B, Time = c[1])\r\n",
    "    elif (a == \"Time\" and b == \"IPTG\"):\r\n",
    "        R = response_function(Time = A, IPTG = B, RQ5 = c[1])\r\n",
    "    else:\r\n",
    "        R = response_function(IPTG = A, Time = B, RQ5 = c[1])\r\n",
    "    R[R<0] = 0 #All predicted negative values are converted to 0\r\n",
    "    return R"
   ],
   "outputs": [],
   "metadata": {}
  },
  {
   "cell_type": "markdown",
   "source": [
    "## Define individual desirability function for each response"
   ],
   "metadata": {}
  },
  {
   "cell_type": "code",
   "execution_count": 40,
   "source": [
    "def ind_desirability(response: str, response_matrix):\r\n",
    "    '''\r\n",
    "    Recieves a string (\"MBE\" or \"OD\") indicating the response to calcule its individual desirability function\r\n",
    "    Recieves a 2D-array with the predicted responses for a pair of factors and apply a one-side transformation \r\n",
    "    to return a 2-array with desirabilities\r\n",
    "    '''\r\n",
    "    d = np.zeros(response_matrix.shape).flatten()\r\n",
    "    response_flatten = response_matrix.copy().flatten()\r\n",
    "    if response == \"MBE\":\r\n",
    "        min_value = df_CCD[\"MBE\"].min()\r\n",
    "        max_value = df_CCD[\"MBE\"].max()\r\n",
    "    if response == \"OD\":\r\n",
    "        min_value = df_CCD[\"OD\"].min()\r\n",
    "        max_value = df_CCD[\"OD\"].max()\r\n",
    "    \r\n",
    "    # predicted values lower than the minimum observed value, are asigned d=0\r\n",
    "    d[response_flatten <= min_value] = 0 \r\n",
    "    # predicted values higher than maximum observed value, are asigned d=1\r\n",
    "    d[response_flatten >= max_value] = 1\r\n",
    "    # predicted values between the minimum and maximum observed values are asigned 0<d<1\r\n",
    "    d[(response_flatten >= min_value) & (response_flatten <= max_value)] = (response_flatten[(response_flatten>= min_value) & (response_flatten <= max_value)] -min_value)/(max_value - min_value)\r\n",
    "    d.resize(response_matrix.shape)\r\n",
    "    return d\r\n",
    "\r\n",
    "def global_desirability(d1, d2):\r\n",
    "    '''\r\n",
    "    Recieves a 2d-array with individual desirabilities for each response.\r\n",
    "    Returns one 2d-array with global desirability D\r\n",
    "    '''\r\n",
    "    D = np.sqrt(d1*d2)\r\n",
    "    return D"
   ],
   "outputs": [],
   "metadata": {}
  },
  {
   "cell_type": "markdown",
   "source": [
    "## Define functions to construct 3D-response surfaces with plotly"
   ],
   "metadata": {}
  },
  {
   "cell_type": "code",
   "execution_count": 41,
   "source": [
    "import plotly.graph_objects as go\r\n",
    "import plotly.io as pio\r\n",
    "\r\n",
    "pio.renderers.default = 'browser' #Shows the plot on a browser tab\r\n",
    "\r\n",
    "def graph_titles(a:str, b:str, c:tuple, response:str):\r\n",
    "    '''\r\n",
    "    Recieves the name of two factors (a, b) as strings, a tuple with the third factor (c) and its fixed value, \r\n",
    "    and a response.\r\n",
    "    Return title and axis labels of the response surface plot\r\n",
    "    '''\r\n",
    "    title = f'{a}{units_dict[a]} vs {b}{units_dict[b]}, {c[0]} = {c[1]} {units_dict[c[0]]}'\r\n",
    "    xaxis = f'{a}{units_dict[a]}'\r\n",
    "    yaxis = f'{b}{units_dict[b]}'\r\n",
    "    if response == \"MBE\":\r\n",
    "        zaxis = 'MBE (A.U.)'\r\n",
    "    elif response == \"OD\":\r\n",
    "        zaxis = 'OD600'\r\n",
    "    elif response == \"D\":\r\n",
    "        zaxis = \"Desirability\"\r\n",
    "    return title, xaxis, yaxis, zaxis\r\n",
    "\r\n",
    "def interactive_graph(a:str, b:str, c: tuple, response: str):\r\n",
    "    ''' \r\n",
    "    Recieves the name of two factors (a, b) as strings, a tuple with the third factor (c) and its fixed value \r\n",
    "    and a response as str (\"MBE\", \"OD\" or \"D\").\r\n",
    "    Return an interactive response surface plot for the pair of factos (a,b), maintaining c constant.\r\n",
    "    '''\r\n",
    "    A, B = np.meshgrid(variables_dict[a], variables_dict[b])\r\n",
    "    if response == \"D\":\r\n",
    "        MBE_D_optimum = predicted_responses(a, b, c, model_MBE) \r\n",
    "        OD_D_optimum = predicted_responses(a, b, c, model_OD)\r\n",
    "        d_MBE = ind_desirability(\"MBE\", MBE_D_optimum)\r\n",
    "        d_OD = ind_desirability(\"OD\", OD_D_optimum)\r\n",
    "        R = global_desirability(d_MBE, d_OD)\r\n",
    "    else:\r\n",
    "        R = predicted_responses(a, b, c, responses_dict[response])\r\n",
    "    fig = go.Figure(data=[go.Surface(x=A, y=B, z=R)])\r\n",
    "    fig.update_traces(opacity = 0.5,\r\n",
    "                      colorbar=dict(len=0.5, yanchor=\"middle\", ypad = 10),\r\n",
    "                      contours_z=dict(show=True, size= 100, usecolormap=True,\r\n",
    "                                      highlightcolor=\"limegreen\", project_z=True))\r\n",
    "    fig.update_layout(title = graph_titles(a, b, c, response)[0],\r\n",
    "                      scene= dict(xaxis_title = graph_titles(a, b, c, response)[1], \r\n",
    "                                  yaxis_title = graph_titles(a, b, c, response)[2],\r\n",
    "                                  zaxis_title = graph_titles(a, b, c, response)[3]),\r\n",
    "                      font=dict(family=\"Arial\", size=10,\r\n",
    "                                color=\"black\"),\r\n",
    "                      width=700, height=700,\r\n",
    "                      margin=dict(l=65, r=50, b=65, t=90))\r\n",
    "    #pio.write_html(fig, file=f'{response}_{a}vs{b}.html', include_plotlyjs=\"cdn\", auto_open=True)\r\n",
    "    fig.show()"
   ],
   "outputs": [],
   "metadata": {}
  },
  {
   "cell_type": "markdown",
   "source": [
    "## Interactive MBE Response surfaces"
   ],
   "metadata": {}
  },
  {
   "cell_type": "code",
   "execution_count": 42,
   "source": [
    "interactive_graph(\"RQ5.1\", \"Time\", (\"IPTG\", 0.23), \"MBE\") #RQ5.1 vs Time"
   ],
   "outputs": [],
   "metadata": {}
  },
  {
   "cell_type": "code",
   "execution_count": 43,
   "source": [
    "interactive_graph(\"RQ5.1\", \"IPTG\", (\"Time\", 2.5), \"MBE\") #RQ5.1 vs IPTG"
   ],
   "outputs": [],
   "metadata": {}
  },
  {
   "cell_type": "code",
   "execution_count": 47,
   "source": [
    "interactive_graph(\"Time\", \"IPTG\", (\"RQ5.1\", 50), \"MBE\") #Time vs IPTG"
   ],
   "outputs": [],
   "metadata": {}
  },
  {
   "cell_type": "markdown",
   "source": [
    "## Interactive OD Response surfaces"
   ],
   "metadata": {}
  },
  {
   "cell_type": "code",
   "execution_count": 48,
   "source": [
    "interactive_graph(\"RQ5.1\", \"Time\", (\"IPTG\", 0.23), \"OD\") #RQ5.1 vs Time"
   ],
   "outputs": [],
   "metadata": {}
  },
  {
   "cell_type": "code",
   "execution_count": 49,
   "source": [
    "interactive_graph(\"RQ5.1\", \"IPTG\", (\"Time\", 2.5), \"OD\") #RQ5.1 vs IPTG"
   ],
   "outputs": [],
   "metadata": {}
  },
  {
   "cell_type": "code",
   "execution_count": 50,
   "source": [
    "interactive_graph(\"Time\", \"IPTG\", (\"RQ5.1\", 50), \"OD\") #Time vs IPTG"
   ],
   "outputs": [],
   "metadata": {}
  },
  {
   "cell_type": "markdown",
   "source": [
    "## Interactive Global Desirability response surfaces"
   ],
   "metadata": {}
  },
  {
   "cell_type": "code",
   "execution_count": 51,
   "source": [
    "interactive_graph(\"RQ5.1\", \"Time\", (\"IPTG\", D_optimum_values[\"IPTG\"]), \"D\") #RQ5.1 vs Time"
   ],
   "outputs": [],
   "metadata": {}
  },
  {
   "cell_type": "code",
   "execution_count": 52,
   "source": [
    "interactive_graph(\"RQ5.1\", \"IPTG\", (\"Time\", D_optimum_values[\"Time\"]), \"D\") #RQ5.1 vs IPTG"
   ],
   "outputs": [],
   "metadata": {}
  },
  {
   "cell_type": "code",
   "execution_count": 53,
   "source": [
    "interactive_graph(\"Time\", \"IPTG\", (\"RQ5.1\", D_optimum_values[\"RQ5.1\"]), \"D\") #Time vs IPTG"
   ],
   "outputs": [],
   "metadata": {}
  }
 ],
 "metadata": {
  "kernelspec": {
   "display_name": "Python 3",
   "language": "python",
   "name": "python3"
  },
  "language_info": {
   "codemirror_mode": {
    "name": "ipython",
    "version": 3
   },
   "file_extension": ".py",
   "mimetype": "text/x-python",
   "name": "python",
   "nbconvert_exporter": "python",
   "pygments_lexer": "ipython3",
   "version": "3.8.5"
  }
 },
 "nbformat": 4,
 "nbformat_minor": 4
}