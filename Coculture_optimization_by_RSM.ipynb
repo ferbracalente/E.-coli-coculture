{
 "cells": [
  {
   "cell_type": "markdown",
   "metadata": {},
   "source": [
    "## Import libraries"
   ]
  },
  {
   "cell_type": "code",
   "execution_count": 34,
   "metadata": {},
   "outputs": [],
   "source": [
    "import pandas as pd\n",
    "from matplotlib import pyplot as plt\n",
    "import numpy as np"
   ]
  },
  {
   "cell_type": "markdown",
   "metadata": {},
   "source": [
    "## Import and clean data"
   ]
  },
  {
   "cell_type": "code",
   "execution_count": 35,
   "metadata": {},
   "outputs": [
    {
     "data": {
      "text/html": [
       "<div>\n",
       "<style scoped>\n",
       "    .dataframe tbody tr th:only-of-type {\n",
       "        vertical-align: middle;\n",
       "    }\n",
       "\n",
       "    .dataframe tbody tr th {\n",
       "        vertical-align: top;\n",
       "    }\n",
       "\n",
       "    .dataframe thead th {\n",
       "        text-align: right;\n",
       "    }\n",
       "</style>\n",
       "<table border=\"1\" class=\"dataframe\">\n",
       "  <thead>\n",
       "    <tr style=\"text-align: right;\">\n",
       "      <th></th>\n",
       "      <th>RQ5</th>\n",
       "      <th>Time</th>\n",
       "      <th>IPTG</th>\n",
       "      <th>ug_MBE</th>\n",
       "      <th>OD</th>\n",
       "    </tr>\n",
       "    <tr>\n",
       "      <th>Std</th>\n",
       "      <th></th>\n",
       "      <th></th>\n",
       "      <th></th>\n",
       "      <th></th>\n",
       "      <th></th>\n",
       "    </tr>\n",
       "  </thead>\n",
       "  <tbody>\n",
       "    <tr>\n",
       "      <th>1</th>\n",
       "      <td>25.672741</td>\n",
       "      <td>1.310793</td>\n",
       "      <td>0.120944</td>\n",
       "      <td>12.153163</td>\n",
       "      <td>9.210</td>\n",
       "    </tr>\n",
       "    <tr>\n",
       "      <th>2</th>\n",
       "      <td>25.672741</td>\n",
       "      <td>1.310793</td>\n",
       "      <td>0.120944</td>\n",
       "      <td>12.231740</td>\n",
       "      <td>8.785</td>\n",
       "    </tr>\n",
       "    <tr>\n",
       "      <th>3</th>\n",
       "      <td>74.317259</td>\n",
       "      <td>1.310793</td>\n",
       "      <td>0.120944</td>\n",
       "      <td>5.648743</td>\n",
       "      <td>8.770</td>\n",
       "    </tr>\n",
       "    <tr>\n",
       "      <th>4</th>\n",
       "      <td>74.317259</td>\n",
       "      <td>1.310793</td>\n",
       "      <td>0.120944</td>\n",
       "      <td>5.072542</td>\n",
       "      <td>8.975</td>\n",
       "    </tr>\n",
       "    <tr>\n",
       "      <th>5</th>\n",
       "      <td>25.672741</td>\n",
       "      <td>3.689207</td>\n",
       "      <td>0.120944</td>\n",
       "      <td>2.726779</td>\n",
       "      <td>8.975</td>\n",
       "    </tr>\n",
       "  </tbody>\n",
       "</table>\n",
       "</div>"
      ],
      "text/plain": [
       "           RQ5      Time      IPTG     ug_MBE     OD\n",
       "Std                                                 \n",
       "1    25.672741  1.310793  0.120944  12.153163  9.210\n",
       "2    25.672741  1.310793  0.120944  12.231740  8.785\n",
       "3    74.317259  1.310793  0.120944   5.648743  8.770\n",
       "4    74.317259  1.310793  0.120944   5.072542  8.975\n",
       "5    25.672741  3.689207  0.120944   2.726779  8.975"
      ]
     },
     "execution_count": 35,
     "metadata": {},
     "output_type": "execute_result"
    }
   ],
   "source": [
    "df_CCD = pd.read_csv(\"https://raw.githubusercontent.com/ferbracalente/E.-coli-coculture/master/docs/CCD.csv\", index_col=(\"Std\"))\n",
    "\n",
    "cols = list(df_CCD.columns[2:7])\n",
    "names = (\"RQ5\", \"Time\", \"IPTG\", \"ug_MBE\", \"OD\")\n",
    "\n",
    "df_CCD = df_CCD[cols]\n",
    "df_CCD.columns = names\n",
    "\n",
    "df_CCD.head()"
   ]
  },
  {
   "cell_type": "markdown",
   "metadata": {},
   "source": [
    "## Define the polynomial model for each response"
   ]
  },
  {
   "cell_type": "code",
   "execution_count": 36,
   "metadata": {},
   "outputs": [],
   "source": [
    "def model_MBE(RQ5, Time, IPTG):\n",
    "    MBE_predicted = -16.59126 -0.13119 * RQ5 -0.70722 * Time +285.59296 * IPTG + 0.39402 * RQ5*Time + 2.70772  * RQ5*IPTG + 60.23277 * Time * IPTG - 3.79661E-003 * (RQ5**2) -3.12603 * (Time**2) -1374.69579 * (IPTG**2) -1.09541 * RQ5*Time*IPTG -2.28001E-003 * (RQ5**2) *Time +1286.95684*(IPTG**3)\n",
    "    return MBE_predicted\n",
    "\n",
    "def model_OD(RQ5, Time, IPTG):\n",
    "    OD_predicted = 13.49564 -0.090711 * RQ5 -6.35033 * Time -12.09413 * IPTG + 0.15325 * RQ5*Time +0.23355 * RQ5*IPTG +6.45031 * Time*IPTG - 7.88557E-004 * (RQ5**2) + 1.07671 * (Time**2) -21.94053 * (IPTG**2) - 0.10508 * RQ5*Time*IPTG -0.026465 * RQ5*(Time**2)\n",
    "    return OD_predicted\n",
    "\n",
    "def model_MBE_coded(RQ5, Time, IPTG):\n",
    "    return 23.91 -2.50 *RQ5 -1.32 * Time +1.19 *IPTG -2.33 *RQ5*Time -0.078 *RQ5*IPTG +0.68 *Time*IPTG -5.62 * (RQ5**2) -4.42 * (Time**2) -5.48 * (IPTG**2) -3.30 * RQ5*Time*IPTG -1.60 * (RQ5**2)*Time +1.45 * (IPTG**3)\n",
    "\n",
    "def model_OD_coded(RQ5, Time, IPTG):\n",
    "    return 8.20 + 1.01 *RQ5 + 0.41 * Time - 0.76 * IPTG - 0.079 *RQ5*Time -0.074 *RQ5*IPTG +0.15 *Time*IPTG -0.47 *(RQ5**2) -0.35 *(Time**2) -0.24 *(IPTG**2) -0.32 *RQ5*Time*IPTG - 0.91 * RQ5* (Time**2)"
   ]
  },
  {
   "cell_type": "markdown",
   "metadata": {},
   "source": [
    "## Define range of idependent variables"
   ]
  },
  {
   "cell_type": "code",
   "execution_count": 37,
   "metadata": {},
   "outputs": [],
   "source": [
    "RQ5 = np.linspace(0, 100, 1000)\n",
    "Time = np.linspace(0.5, 4.5, 1000)\n",
    "IPTG = np.linspace(0.05, 0.4, 1000)"
   ]
  },
  {
   "cell_type": "markdown",
   "metadata": {},
   "source": [
    "## Define dictionaries with units, zero values and D_optimum for each factor"
   ]
  },
  {
   "cell_type": "code",
   "execution_count": 38,
   "metadata": {},
   "outputs": [],
   "source": [
    "variables_dict = {'RQ5.1': RQ5, 'Time': Time, 'IPTG': IPTG}\n",
    "units_dict = {'RQ5.1':\"(%)\", \"Time\": \"(h)\", \"IPTG\": \"(mM)\"}\n",
    "zero_values_dict = {'RQ5.1':50, 'Time': 2.5, 'IPTG': 0.23}\n",
    "D_optimum_values = {'RQ5.1': 53.9, 'Time':2.51, 'IPTG':0.21}\n",
    "responses_dict = {\"MBE\": model_MBE, \"OD\": model_OD}"
   ]
  },
  {
   "cell_type": "markdown",
   "metadata": {},
   "source": [
    "## Define function to create a 2d-array with predicted responses"
   ]
  },
  {
   "cell_type": "code",
   "execution_count": 39,
   "metadata": {},
   "outputs": [],
   "source": [
    "def predicted_responses(a:str, b:str, c:tuple, response_function):\n",
    "    '''\n",
    "    Recieves the name of two factors as strings, a tuple with the third factor and its fixed value \n",
    "    and the response fuction model.\n",
    "    Return R, a 2d-array as result of aplying response_fuction(a, b, c=fix)\n",
    "    ''' \n",
    "    A, B = np.meshgrid(variables_dict[a],variables_dict[b]) #Creates 2d-arrays A and B\n",
    "    if (a == \"RQ5.1\" and b == \"Time\"):\n",
    "        R = response_function(RQ5 = A, Time = B, IPTG = c[1]) #Apply function to each (A,B) pair\n",
    "    elif (a == \"Time\" and b == \"RQ5.1\"):\n",
    "        R = response_function(Time = A, RQ5 = B, IPTG = c[1])\n",
    "    elif (a == \"RQ5.1\" and b == \"IPTG\"):\n",
    "        R = response_function(RQ5= A, IPTG = B, Time = c[1])\n",
    "    elif (a == \"IPTG\" and b == \"RQ5.1\"):\n",
    "        R = response_function(IPTG = A, RQ5 = B, Time = c[1])\n",
    "    elif (a == \"Time\" and b == \"IPTG\"):\n",
    "        R = response_function(Time = A, IPTG = B, RQ5 = c[1])\n",
    "    else:\n",
    "        R = response_function(IPTG = A, Time = B, RQ5 = c[1])\n",
    "    R[R<0] = 0 #All predicted negative values are converted to 0\n",
    "    return R"
   ]
  },
  {
   "cell_type": "markdown",
   "metadata": {},
   "source": [
    "## Define individual desirability function for each response"
   ]
  },
  {
   "cell_type": "code",
   "execution_count": 40,
   "metadata": {},
   "outputs": [],
   "source": [
    "def ind_desirability(response: str, response_matrix):\n",
    "    '''\n",
    "    Recieves a string (\"MBE\" or \"OD\") indicating the response to calcule its individual desirability function\n",
    "    Recieves a 2D-array with the predicted responses for a pair of factors and apply a one-side transformation \n",
    "    to return a 2-array with desirabilities\n",
    "    '''\n",
    "    d = np.zeros(response_matrix.shape).flatten()\n",
    "    response_flatten = response_matrix.copy().flatten()\n",
    "    if response == \"MBE\":\n",
    "        min_value = df_CCD[\"ug_MBE\"].min()\n",
    "        max_value = df_CCD[\"ug_MBE\"].max()\n",
    "    if response == \"OD\":\n",
    "        min_value = df_CCD[\"OD\"].min()\n",
    "        max_value = df_CCD[\"OD\"].max()\n",
    "    \n",
    "    # predicted values lower than the minimum observed value, are asigned d=0\n",
    "    d[response_flatten <= min_value] = 0 \n",
    "    # predicted values higher than maximum observed value, are asigned d=1\n",
    "    d[response_flatten >= max_value] = 1\n",
    "    # predicted values between the minimum and maximum observed values are asigned 0<d<1\n",
    "    d[(response_flatten >= min_value) & (response_flatten <= max_value)] = (response_flatten[(response_flatten>= min_value) & (response_flatten <= max_value)] -min_value)/(max_value - min_value)\n",
    "    d.resize(response_matrix.shape)\n",
    "    return d\n",
    "\n",
    "def global_desirability(d1, d2):\n",
    "    '''\n",
    "    Recieves a 2d-array with individual desirabilities for each response.\n",
    "    Returns one 2d-array with global desirability D\n",
    "    '''\n",
    "    D = np.sqrt(d1*d2)\n",
    "    return D"
   ]
  },
  {
   "cell_type": "markdown",
   "metadata": {},
   "source": [
    "## Define functions to construct 3D-response surfaces with plotly"
   ]
  },
  {
   "cell_type": "code",
   "execution_count": 41,
   "metadata": {},
   "outputs": [],
   "source": [
    "import plotly.graph_objects as go\n",
    "import plotly.io as pio\n",
    "\n",
    "pio.renderers.default = 'browser' #Shows the plot on a browser tab\n",
    "\n",
    "def graph_titles(a:str, b:str, c:tuple, response:str):\n",
    "    '''\n",
    "    Recieves the name of two factors (a, b) as strings, a tuple with the third factor (c) and its fixed value, \n",
    "    and a response.\n",
    "    Return title and axis labels of the response surface plot\n",
    "    '''\n",
    "    title = f'{a}{units_dict[a]} vs {b}{units_dict[b]}, {c[0]} = {c[1]} {units_dict[c[0]]}'\n",
    "    xaxis = f'{a}{units_dict[a]}'\n",
    "    yaxis = f'{b}{units_dict[b]}'\n",
    "    if response == \"MBE\":\n",
    "        zaxis = 'ug MBE/OD600/10'\n",
    "    elif response == \"OD\":\n",
    "        zaxis = 'OD600'\n",
    "    elif response == \"D\":\n",
    "        zaxis = \"Desirability\"\n",
    "    return title, xaxis, yaxis, zaxis\n",
    "\n",
    "def interactive_graph(a:str, b:str, c: tuple, response: str):\n",
    "    ''' \n",
    "    Recieves the name of two factors (a, b) as strings, a tuple with the third factor (c) and its fixed value \n",
    "    and a response as str (\"MBE\", \"OD\" or \"D\").\n",
    "    Return an interactive response surface plot for the pair of factos (a,b), maintaining c constant.\n",
    "    '''\n",
    "    A, B = np.meshgrid(variables_dict[a], variables_dict[b])\n",
    "    if response == \"D\":\n",
    "        MBE_D_optimum = predicted_responses(a, b, c, model_MBE) \n",
    "        OD_D_optimum = predicted_responses(a, b, c, model_OD)\n",
    "        d_MBE = ind_desirability(\"MBE\", MBE_D_optimum)\n",
    "        d_OD = ind_desirability(\"OD\", OD_D_optimum)\n",
    "        R = global_desirability(d_MBE, d_OD)\n",
    "    else:\n",
    "        R = predicted_responses(a, b, c, responses_dict[response])\n",
    "    fig = go.Figure(data=[go.Surface(x=A, y=B, z=R)])\n",
    "    fig.update_traces(opacity = 0.5,\n",
    "                      colorbar=dict(len=0.5, yanchor=\"middle\", ypad = 10),\n",
    "                      contours_z=dict(show=True, size= 100, usecolormap=True,\n",
    "                                      highlightcolor=\"limegreen\", project_z=True))\n",
    "    fig.update_layout(title = graph_titles(a, b, c, response)[0],\n",
    "                      scene= dict(xaxis_title = graph_titles(a, b, c, response)[1], \n",
    "                                  yaxis_title = graph_titles(a, b, c, response)[2],\n",
    "                                  zaxis_title = graph_titles(a, b, c, response)[3]),\n",
    "                      font=dict(family=\"Arial\", size=10,\n",
    "                                color=\"black\"),\n",
    "                      width=700, height=700,\n",
    "                      margin=dict(l=65, r=50, b=65, t=90))\n",
    "    fig.show()"
   ]
  },
  {
   "cell_type": "markdown",
   "metadata": {},
   "source": [
    "## Interactive MBE Response surfaces"
   ]
  },
  {
   "cell_type": "code",
   "execution_count": 42,
   "metadata": {},
   "outputs": [],
   "source": [
    "interactive_graph(\"RQ5.1\", \"Time\", (\"IPTG\", 0.23), \"MBE\")"
   ]
  },
  {
   "cell_type": "code",
   "execution_count": 43,
   "metadata": {},
   "outputs": [],
   "source": [
    "interactive_graph(\"RQ5.1\", \"IPTG\", (\"Time\", 2.5), \"MBE\")"
   ]
  },
  {
   "cell_type": "code",
   "execution_count": 47,
   "metadata": {},
   "outputs": [],
   "source": [
    "interactive_graph(\"Time\", \"IPTG\", (\"RQ5.1\", 50), \"MBE\")"
   ]
  },
  {
   "cell_type": "markdown",
   "metadata": {},
   "source": [
    "## Interactive OD Response surfaces"
   ]
  },
  {
   "cell_type": "code",
   "execution_count": 48,
   "metadata": {},
   "outputs": [],
   "source": [
    "interactive_graph(\"RQ5.1\", \"Time\", (\"IPTG\", 0.23), \"OD\")"
   ]
  },
  {
   "cell_type": "code",
   "execution_count": 49,
   "metadata": {},
   "outputs": [],
   "source": [
    "interactive_graph(\"RQ5.1\", \"IPTG\", (\"Time\", 2.5), \"OD\")"
   ]
  },
  {
   "cell_type": "code",
   "execution_count": 50,
   "metadata": {},
   "outputs": [],
   "source": [
    "interactive_graph(\"Time\", \"IPTG\", (\"RQ5.1\", 50), \"OD\")"
   ]
  },
  {
   "cell_type": "markdown",
   "metadata": {},
   "source": [
    "## Interactive Global Desirability response surfaces"
   ]
  },
  {
   "cell_type": "code",
   "execution_count": 51,
   "metadata": {},
   "outputs": [],
   "source": [
    "interactive_graph(\"RQ5.1\", \"Time\", (\"IPTG\", D_optimum_values[\"IPTG\"]), \"D\")"
   ]
  },
  {
   "cell_type": "code",
   "execution_count": 52,
   "metadata": {},
   "outputs": [],
   "source": [
    "interactive_graph(\"RQ5.1\", \"IPTG\", (\"Time\", D_optimum_values[\"Time\"]), \"D\")"
   ]
  },
  {
   "cell_type": "code",
   "execution_count": 53,
   "metadata": {},
   "outputs": [],
   "source": [
    "interactive_graph(\"Time\", \"IPTG\", (\"RQ5.1\", D_optimum_values[\"RQ5.1\"]), \"D\")"
   ]
  }
 ],
 "metadata": {
  "kernelspec": {
   "display_name": "Python 3",
   "language": "python",
   "name": "python3"
  },
  "language_info": {
   "codemirror_mode": {
    "name": "ipython",
    "version": 3
   },
   "file_extension": ".py",
   "mimetype": "text/x-python",
   "name": "python",
   "nbconvert_exporter": "python",
   "pygments_lexer": "ipython3",
   "version": "3.8.5"
  }
 },
 "nbformat": 4,
 "nbformat_minor": 4
}
